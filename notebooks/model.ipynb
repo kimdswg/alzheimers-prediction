{
 "cells": [
  {
   "cell_type": "markdown",
   "metadata": {},
   "source": [
    "# ADNI Classification Model Final Project\n",
    "\n",
    "### Group #13: Kezi Cheng, Nikhil Mallareddy, and Jonathan Fisher"
   ]
  },
  {
   "cell_type": "markdown",
   "metadata": {},
   "source": [
    "Import libraries:"
   ]
  },
  {
   "cell_type": "code",
   "execution_count": 1,
   "metadata": {
    "collapsed": false
   },
   "outputs": [
    {
     "name": "stderr",
     "output_type": "stream",
     "text": [
      "/Users/nikhil/anaconda/lib/python3.6/site-packages/sklearn/cross_validation.py:44: DeprecationWarning: This module was deprecated in version 0.18 in favor of the model_selection module into which all the refactored classes and functions are moved. Also note that the interface of the new CV iterators are different from that of this module. This module will be removed in 0.20.\n",
      "  \"This module will be removed in 0.20.\", DeprecationWarning)\n"
     ]
    }
   ],
   "source": [
    "%matplotlib inline\n",
    "from IPython.display import display\n",
    "from IPython.display import Image\n",
    "from sklearn import preprocessing\n",
    "from sklearn.cross_validation import KFold\n",
    "from sklearn.decomposition import PCA\n",
    "from sklearn.discriminant_analysis import LinearDiscriminantAnalysis as LDA\n",
    "from sklearn.discriminant_analysis import QuadraticDiscriminantAnalysis as QDA\n",
    "from sklearn.ensemble import RandomForestClassifier as RandomForest\n",
    "from sklearn.linear_model import Lasso\n",
    "from sklearn.linear_model import LassoCV\n",
    "from sklearn.linear_model import LinearRegression\n",
    "from sklearn.linear_model import LogisticRegression\n",
    "from sklearn.linear_model import LogisticRegressionCV\n",
    "from sklearn.linear_model import Ridge\n",
    "from sklearn.linear_model import RidgeCV\n",
    "from sklearn.metrics import accuracy_score\n",
    "from sklearn.metrics import confusion_matrix\n",
    "from sklearn.metrics import roc_curve, auc, roc_auc_score  \n",
    "from sklearn.model_selection import cross_val_score\n",
    "from sklearn.model_selection import train_test_split  \n",
    "from sklearn.neighbors import KNeighborsClassifier as KNN\n",
    "from sklearn.neighbors import KNeighborsRegressor\n",
    "from sklearn.preprocessing import PolynomialFeatures\n",
    "from sklearn.svm import SVC\n",
    "from sklearn.tree import DecisionTreeClassifier \n",
    "from sklearn.tree import export_graphviz\n",
    "from statsmodels.api import OLS\n",
    "from statsmodels.tools import add_constant\n",
    "import datetime\n",
    "import matplotlib\n",
    "import matplotlib.cm as cmx\n",
    "import matplotlib.colors as colors\n",
    "import matplotlib.patches as patches\n",
    "import matplotlib.pyplot as plt\n",
    "import numpy as np\n",
    "import pandas as pd\n",
    "import scipy as sp\n",
    "import seaborn.apionly as sns\n",
    "import sklearn.metrics as metrics\n",
    "import statsmodels.api as sm\n",
    "import sys\n",
    "import urllib\n",
    "import warnings\n",
    "\n",
    "pd.set_option('display.max_columns',100)\n",
    "pd.set_option('display.max_rows',100)"
   ]
  },
  {
   "cell_type": "markdown",
   "metadata": {},
   "source": [
    "## Data Loading, Cleaning, and EDA"
   ]
  },
  {
   "cell_type": "markdown",
   "metadata": {},
   "source": [
    "Read in ADNIMERGE and CSF datasets:"
   ]
  },
  {
   "cell_type": "code",
   "execution_count": 2,
   "metadata": {
    "collapsed": false
   },
   "outputs": [
    {
     "name": "stdout",
     "output_type": "stream",
     "text": [
      "(13017, 94)\n",
      "(5876, 14)\n"
     ]
    }
   ],
   "source": [
    "adnimerge = pd.read_csv('ADNIMERGE.csv')\n",
    "csf = pd.read_csv('UPENNBIOMK_MASTER.csv')\n",
    "\n",
    "print(adnimerge.shape)\n",
    "print(csf.shape)"
   ]
  },
  {
   "cell_type": "markdown",
   "metadata": {},
   "source": [
    "Preliminary data cleaning:\n",
    "\n",
    "CSF measurements are taken in multiple batches. The UPENN dataset includes the median of values across batches which serve as a good summary value for each patient/timepoint. We will use these median values for our analyses.\n",
    "\n",
    "ADNIMERGE contains two variables near the end called 'Month' and 'M' which are identical to one another and are also redundant with VISCODE. Drop 'M' but keep 'Month' in case it is useful for parsing in longitudinal analysis. Also drop all variables with suffix '_bl' as these are redundant in our analysis since we are only looking at baseline data."
   ]
  },
  {
   "cell_type": "code",
   "execution_count": 3,
   "metadata": {
    "collapsed": true,
    "scrolled": true
   },
   "outputs": [],
   "source": [
    "csf_bl = csf.loc[csf['VISCODE']=='bl'].loc[csf['BATCH']=='MEDIAN'] #baseline csf values\n",
    "csf_bl = csf_bl.drop(['ABETA_RAW', 'TAU_RAW', 'PTAU_RAW'], axis=1) #drop raw data (use only scaled data)\n",
    "\n",
    "adnimerge_bl = adnimerge.loc[adnimerge['VISCODE']=='bl'] #baseline adnimerge values\n",
    "\n",
    "adnimerge_bl = adnimerge_bl.drop('M', axis=1)\n",
    "adnimerge_bl = adnimerge_bl.drop(['EXAMDATE_bl', 'CDRSB_bl', 'ADAS11_bl', 'ADAS13_bl', 'MMSE_bl',\n",
    "       'RAVLT_immediate_bl', 'RAVLT_learning_bl', 'RAVLT_forgetting_bl',\n",
    "       'RAVLT_perc_forgetting_bl', 'FAQ_bl', 'Ventricles_bl',\n",
    "       'Hippocampus_bl', 'WholeBrain_bl', 'Entorhinal_bl', 'Fusiform_bl',\n",
    "       'MidTemp_bl', 'ICV_bl', 'MOCA_bl', 'EcogPtMem_bl', 'EcogPtLang_bl',\n",
    "       'EcogPtVisspat_bl', 'EcogPtPlan_bl', 'EcogPtOrgan_bl',\n",
    "       'EcogPtDivatt_bl', 'EcogPtTotal_bl', 'EcogSPMem_bl',\n",
    "       'EcogSPLang_bl', 'EcogSPVisspat_bl', 'EcogSPPlan_bl',\n",
    "       'EcogSPOrgan_bl', 'EcogSPDivatt_bl', 'EcogSPTotal_bl', 'FDG_bl',\n",
    "       'AV45_bl', 'Years_bl', 'Month_bl'], axis=1)"
   ]
  },
  {
   "cell_type": "markdown",
   "metadata": {},
   "source": [
    "Merge ADNIMERGE and CSF:"
   ]
  },
  {
   "cell_type": "code",
   "execution_count": 4,
   "metadata": {
    "collapsed": true
   },
   "outputs": [],
   "source": [
    "merged_dx = pd.merge(left=adnimerge_bl, right=csf_bl, left_on='RID', right_on='RID', how='left')"
   ]
  },
  {
   "cell_type": "markdown",
   "metadata": {},
   "source": [
    "Our outcome of interest (autopsy-proven diagnosis) is stored in the column 'DX_bl'."
   ]
  },
  {
   "cell_type": "code",
   "execution_count": 5,
   "metadata": {
    "collapsed": false
   },
   "outputs": [
    {
     "name": "stdout",
     "output_type": "stream",
     "text": [
      "No. of missing values in 'DX_bl': 45\n"
     ]
    }
   ],
   "source": [
    "print(\"No. of missing values in 'DX_bl':\", merged_dx['DX_bl'].isnull().sum())"
   ]
  },
  {
   "cell_type": "markdown",
   "metadata": {},
   "source": [
    "Collapse dx_bl into 3 categories, coded as follows: \n",
    "- CN (CN+SMC) = 1\n",
    "- MCI (LMCI+EMCI) = 2\n",
    "- AD = 3"
   ]
  },
  {
   "cell_type": "code",
   "execution_count": 6,
   "metadata": {
    "collapsed": true
   },
   "outputs": [],
   "source": [
    "merged_dx['Base_DX']= merged_dx['DX_bl'].copy()\n",
    "merged_dx.loc[merged_dx['DX_bl']=='SMC','Base_DX'] = 0\n",
    "merged_dx.loc[merged_dx['DX_bl']=='CN','Base_DX'] = 0\n",
    "merged_dx.loc[merged_dx['DX_bl']=='EMCI','Base_DX'] = 1\n",
    "merged_dx.loc[merged_dx['DX_bl']=='LMCI','Base_DX'] = 1\n",
    "merged_dx.loc[merged_dx['DX_bl']=='MCI','Base_DX'] = 1\n",
    "merged_dx.loc[merged_dx['DX_bl']=='AD','Base_DX'] = 2"
   ]
  },
  {
   "cell_type": "code",
   "execution_count": 7,
   "metadata": {
    "collapsed": true
   },
   "outputs": [],
   "source": [
    "#confirm conversion\n",
    "#merged_dx[\"Base_DX\"].unique()"
   ]
  },
  {
   "cell_type": "code",
   "execution_count": 8,
   "metadata": {
    "collapsed": false,
    "scrolled": true
   },
   "outputs": [
    {
     "name": "stdout",
     "output_type": "stream",
     "text": [
      "observations per protocol:\n"
     ]
    },
    {
     "data": {
      "text/plain": [
       "ADNI1     819\n",
       "ADNI2     789\n",
       "ADNIGO    131\n",
       "ADNI3      45\n",
       "Name: COLPROT, dtype: int64"
      ]
     },
     "execution_count": 8,
     "metadata": {},
     "output_type": "execute_result"
    }
   ],
   "source": [
    "print('observations per protocol:')\n",
    "merged_dx['COLPROT'].value_counts()"
   ]
  },
  {
   "cell_type": "markdown",
   "metadata": {},
   "source": [
    "We restrict our analysis to data collected via the ADNI2 protocol."
   ]
  },
  {
   "cell_type": "markdown",
   "metadata": {},
   "source": [
    "Extract ADNI2 data:"
   ]
  },
  {
   "cell_type": "code",
   "execution_count": 9,
   "metadata": {
    "collapsed": false
   },
   "outputs": [
    {
     "name": "stdout",
     "output_type": "stream",
     "text": [
      "shape of extracted ADNI data:  (789, 68)\n"
     ]
    }
   ],
   "source": [
    "adnitwo = merged_dx.loc[merged_dx['COLPROT']=='ADNI2']\n",
    "print('shape of extracted ADNI data: ', adnitwo.shape)"
   ]
  },
  {
   "cell_type": "markdown",
   "metadata": {},
   "source": [
    "Drop columns with large proportion of missing values:"
   ]
  },
  {
   "cell_type": "code",
   "execution_count": 10,
   "metadata": {
    "collapsed": false,
    "scrolled": true
   },
   "outputs": [
    {
     "name": "stdout",
     "output_type": "stream",
     "text": [
      "shape after dropping empty/sparse columns:  (789, 62)\n",
      "\n",
      "Number of missing values for remaining features:\n",
      "RID 0\n",
      "PTID 0\n",
      "VISCODE_x 0\n",
      "SITE 0\n",
      "COLPROT 0\n",
      "ORIGPROT 0\n",
      "EXAMDATE 0\n",
      "DX_bl 0\n",
      "AGE 0\n",
      "PTGENDER 0\n",
      "PTEDUCAT 0\n",
      "PTETHCAT 0\n",
      "PTRACCAT 0\n",
      "PTMARRY 0\n",
      "APOE4 11\n",
      "FDG 15\n",
      "AV45 23\n",
      "CDRSB 0\n",
      "ADAS11 4\n",
      "ADAS13 6\n",
      "MMSE 0\n",
      "RAVLT_immediate 2\n",
      "RAVLT_learning 2\n",
      "RAVLT_forgetting 2\n",
      "RAVLT_perc_forgetting 3\n",
      "FAQ 6\n",
      "MOCA 10\n",
      "EcogPtMem 3\n",
      "EcogPtLang 4\n",
      "EcogPtVisspat 8\n",
      "EcogPtPlan 5\n",
      "EcogPtOrgan 24\n",
      "EcogPtDivatt 11\n",
      "EcogPtTotal 4\n",
      "EcogSPMem 10\n",
      "EcogSPLang 9\n",
      "EcogSPVisspat 21\n",
      "EcogSPPlan 18\n",
      "EcogSPOrgan 40\n",
      "EcogSPDivatt 26\n",
      "EcogSPTotal 11\n",
      "Ventricles 64\n",
      "Hippocampus 89\n",
      "WholeBrain 37\n",
      "Entorhinal 108\n",
      "Fusiform 108\n",
      "MidTemp 108\n",
      "ICV 14\n",
      "DX 7\n",
      "Month 0\n",
      "update_stamp_x 0\n",
      "VISCODE_y 85\n",
      "BATCH 85\n",
      "KIT 85\n",
      "STDS 85\n",
      "DRWDTE 85\n",
      "RUNDATE 85\n",
      "ABETA 85\n",
      "TAU 102\n",
      "PTAU 85\n",
      "update_stamp_y 85\n",
      "Base_DX 0\n"
     ]
    }
   ],
   "source": [
    "#drop 'FLDSTRENG' and 'FSVERSION' variables (unknown meaning and missing values)\n",
    "adnitwo = adnitwo.drop(['FLDSTRENG', 'FSVERSION', 'FLDSTRENG_bl', 'FSVERSION_bl'], axis=1)\n",
    "\n",
    "#drop PIB (not measured in ADNI2)\n",
    "adnitwo = adnitwo.drop(['PIB', 'PIB_bl'], axis=1)\n",
    "\n",
    "print('shape after dropping empty/sparse columns: ', adnitwo.shape)\n",
    "print('\\nNumber of missing values for remaining features:')\n",
    "for col in adnitwo.columns:\n",
    "    print(col, adnitwo[col].isnull().sum())"
   ]
  },
  {
   "cell_type": "markdown",
   "metadata": {},
   "source": [
    "Rows with remaining missing values:"
   ]
  },
  {
   "cell_type": "code",
   "execution_count": 11,
   "metadata": {
    "collapsed": false,
    "scrolled": true
   },
   "outputs": [
    {
     "data": {
      "image/png": "[encoded data removed]",
      "text/plain": [
       "<matplotlib.figure.Figure at 0x11237db38>"
      ]
     },
     "metadata": {},
     "output_type": "display_data"
    }
   ],
   "source": [
    "plt.hist(adnitwo.isnull().sum(axis=1), bins=100) #To find the number of missing datapoints in each row\n",
    "plt.title('Histogram of Number of Missing Values Per Patient')\n",
    "plt.xlabel(\"Number of missing values\")\n",
    "plt.ylabel(\"Number of patients\")\n",
    "plt.show()"
   ]
  },
  {
   "cell_type": "markdown",
   "metadata": {},
   "source": [
    "Based on the histogram above, the majority of observations contain 0 missing values, but there is still a tail of observations containing some missing values. If we drop all observations with missing values, then the total number of observations remaining is:"
   ]
  },
  {
   "cell_type": "code",
   "execution_count": 12,
   "metadata": {
    "collapsed": false
   },
   "outputs": [
    {
     "name": "stdout",
     "output_type": "stream",
     "text": [
      "No. of observations without any missing values: 455\n"
     ]
    }
   ],
   "source": [
    "adnitwo_full = adnitwo.dropna(axis='rows')\n",
    "print('No. of observations without any missing values:', adnitwo_full.shape[0])"
   ]
  },
  {
   "cell_type": "markdown",
   "metadata": {},
   "source": [
    "We can retain a larger proportion of observations by dropping only observations with ≥10 missing values and imputing remaining missing values."
   ]
  },
  {
   "cell_type": "code",
   "execution_count": 13,
   "metadata": {
    "collapsed": false
   },
   "outputs": [
    {
     "name": "stdout",
     "output_type": "stream",
     "text": [
      "Number of rows after dropping those with ≥10 NaNs: 747\n"
     ]
    }
   ],
   "source": [
    "threshold = adnitwo.shape[1] - 10\n",
    "adnitwo_dropten = adnitwo.dropna(axis='rows', thresh=threshold) #thresh = min # of non-NaN values\n",
    "print('Number of rows after dropping those with ≥10 NaNs:', adnitwo_dropten.shape[0])"
   ]
  },
  {
   "cell_type": "code",
   "execution_count": 14,
   "metadata": {
    "collapsed": false
   },
   "outputs": [
    {
     "name": "stdout",
     "output_type": "stream",
     "text": [
      "\n",
      "Numbers of Missing Values per Feature After Removing Observations with ≥10 NaNs:\n",
      "RID 0\n",
      "PTID 0\n",
      "VISCODE_x 0\n",
      "SITE 0\n",
      "COLPROT 0\n",
      "ORIGPROT 0\n",
      "EXAMDATE 0\n",
      "DX_bl 0\n",
      "AGE 0\n",
      "PTGENDER 0\n",
      "PTEDUCAT 0\n",
      "PTETHCAT 0\n",
      "PTRACCAT 0\n",
      "PTMARRY 0\n",
      "APOE4 11\n",
      "FDG 15\n",
      "AV45 23\n",
      "CDRSB 0\n",
      "ADAS11 4\n",
      "ADAS13 6\n",
      "MMSE 0\n",
      "RAVLT_immediate 2\n",
      "RAVLT_learning 2\n",
      "RAVLT_forgetting 2\n",
      "RAVLT_perc_forgetting 3\n",
      "FAQ 6\n",
      "MOCA 10\n",
      "EcogPtMem 3\n",
      "EcogPtLang 4\n",
      "EcogPtVisspat 8\n",
      "EcogPtPlan 5\n",
      "EcogPtOrgan 24\n",
      "EcogPtDivatt 11\n",
      "EcogPtTotal 4\n",
      "EcogSPMem 10\n",
      "EcogSPLang 9\n",
      "EcogSPVisspat 21\n",
      "EcogSPPlan 18\n",
      "EcogSPOrgan 40\n",
      "EcogSPDivatt 26\n",
      "EcogSPTotal 11\n",
      "Ventricles 64\n",
      "Hippocampus 89\n",
      "WholeBrain 37\n",
      "Entorhinal 108\n",
      "Fusiform 108\n",
      "MidTemp 108\n",
      "ICV 14\n",
      "DX 7\n",
      "Month 0\n",
      "update_stamp_x 0\n",
      "VISCODE_y 85\n",
      "BATCH 85\n",
      "KIT 85\n",
      "STDS 85\n",
      "DRWDTE 85\n",
      "RUNDATE 85\n",
      "ABETA 85\n",
      "TAU 102\n",
      "PTAU 85\n",
      "update_stamp_y 85\n",
      "Base_DX 0\n"
     ]
    }
   ],
   "source": [
    "print('\\nNumbers of Missing Values per Feature After Removing Observations with ≥10 NaNs:')\n",
    "for col in adnitwo.columns:\n",
    "    print(col, adnitwo[col].isnull().sum())"
   ]
  },
  {
   "cell_type": "markdown",
   "metadata": {},
   "source": [
    "Mean imputation to fill in remaining missing values:"
   ]
  },
  {
   "cell_type": "code",
   "execution_count": 15,
   "metadata": {
    "collapsed": true
   },
   "outputs": [],
   "source": [
    "#list of column names for columns containing NaNs\n",
    "cols_with_na=[]\n",
    "\n",
    "for column in adnitwo_dropten:\n",
    "    if adnitwo_dropten[column].isnull().any()==True:\n",
    "        cols_with_na.append(column)\n",
    "\n",
    "#impute means\n",
    "meandf = adnitwo_dropten.copy()\n",
    "for col in cols_with_na:\n",
    "    if adnitwo_dropten[col].dtype=='float64':\n",
    "        meandf[col] = adnitwo_dropten[col].fillna(adnitwo_dropten[col].mean())\n",
    "    else: #for non-numeric data\n",
    "        meandf[col] = adnitwo_dropten[col].fillna(adnitwo_dropten[col].mode()[0])\n",
    "\n",
    "#confirm imputation success\n",
    "#np.any(pd.isnull(meandf))  #If `False`, confirms that meandf is now Nan-free"
   ]
  },
  {
   "cell_type": "markdown",
   "metadata": {},
   "source": [
    "## Feature Engineering"
   ]
  },
  {
   "cell_type": "code",
   "execution_count": 16,
   "metadata": {
    "collapsed": false
   },
   "outputs": [
    {
     "data": {
      "text/plain": [
       "(13017, 94)"
      ]
     },
     "execution_count": 16,
     "metadata": {},
     "output_type": "execute_result"
    }
   ],
   "source": [
    "adnimerge.shape"
   ]
  },
  {
   "cell_type": "markdown",
   "metadata": {},
   "source": [
    "### Adding time effects terms from 2-year follow-up (for exploratory purposes; not included in final models)"
   ]
  },
  {
   "cell_type": "code",
   "execution_count": 17,
   "metadata": {
    "collapsed": false
   },
   "outputs": [
    {
     "data": {
      "text/plain": [
       "VISCODE\n",
       "bl      789\n",
       "m03     673\n",
       "m06     721\n",
       "m102      7\n",
       "m108    119\n",
       "m114      1\n",
       "m12     745\n",
       "m120     72\n",
       "m126      4\n",
       "m18     594\n",
       "m24     679\n",
       "m30     263\n",
       "m36     395\n",
       "m42      55\n",
       "m48     405\n",
       "m54      20\n",
       "m60     290\n",
       "m66     161\n",
       "m72     253\n",
       "m78     208\n",
       "m84     199\n",
       "m90     129\n",
       "m96     155\n",
       "Name: RID, dtype: int64"
      ]
     },
     "execution_count": 17,
     "metadata": {},
     "output_type": "execute_result"
    }
   ],
   "source": [
    "adnimerge[adnimerge['COLPROT']== 'ADNI2'].groupby('VISCODE').count()['RID']"
   ]
  },
  {
   "cell_type": "markdown",
   "metadata": {},
   "source": [
    "- 679 of the total ADNI2 patients had a follow up visit at t= m24"
   ]
  },
  {
   "cell_type": "code",
   "execution_count": 18,
   "metadata": {
    "collapsed": true
   },
   "outputs": [],
   "source": [
    "adni2_m24_brainvol = adnimerge.loc[adnimerge['COLPROT']=='ADNI2'].loc[adnimerge['VISCODE'] == 'm24'][['RID','WholeBrain']]"
   ]
  },
  {
   "cell_type": "code",
   "execution_count": 19,
   "metadata": {
    "collapsed": false
   },
   "outputs": [
    {
     "data": {
      "text/html": [
       "<div>\n",
       "<table border=\"1\" class=\"dataframe\">\n",
       "  <thead>\n",
       "    <tr style=\"text-align: right;\">\n",
       "      <th></th>\n",
       "      <th>RID</th>\n",
       "      <th>WholeBrain</th>\n",
       "    </tr>\n",
       "  </thead>\n",
       "  <tbody>\n",
       "    <tr>\n",
       "      <th>59</th>\n",
       "      <td>5280</td>\n",
       "      <td>NaN</td>\n",
       "    </tr>\n",
       "    <tr>\n",
       "      <th>153</th>\n",
       "      <td>5277</td>\n",
       "      <td>980388.0</td>\n",
       "    </tr>\n",
       "    <tr>\n",
       "      <th>258</th>\n",
       "      <td>5273</td>\n",
       "      <td>902326.0</td>\n",
       "    </tr>\n",
       "    <tr>\n",
       "      <th>353</th>\n",
       "      <td>5272</td>\n",
       "      <td>NaN</td>\n",
       "    </tr>\n",
       "    <tr>\n",
       "      <th>434</th>\n",
       "      <td>5269</td>\n",
       "      <td>1147730.0</td>\n",
       "    </tr>\n",
       "  </tbody>\n",
       "</table>\n",
       "</div>"
      ],
      "text/plain": [
       "      RID  WholeBrain\n",
       "59   5280         NaN\n",
       "153  5277    980388.0\n",
       "258  5273    902326.0\n",
       "353  5272         NaN\n",
       "434  5269   1147730.0"
      ]
     },
     "execution_count": 19,
     "metadata": {},
     "output_type": "execute_result"
    }
   ],
   "source": [
    "adni2_m24_brainvol.head()"
   ]
  },
  {
   "cell_type": "code",
   "execution_count": 20,
   "metadata": {
    "collapsed": false
   },
   "outputs": [
    {
     "data": {
      "text/plain": [
       "RID             0\n",
       "WholeBrain    163\n",
       "dtype: int64"
      ]
     },
     "execution_count": 20,
     "metadata": {},
     "output_type": "execute_result"
    }
   ],
   "source": [
    "adni2_m24_brainvol.isnull().sum()"
   ]
  },
  {
   "cell_type": "markdown",
   "metadata": {},
   "source": [
    "- 163 of the people who went in for a visit at t=24m don't have whole brain vol data. "
   ]
  },
  {
   "cell_type": "code",
   "execution_count": 21,
   "metadata": {
    "collapsed": true
   },
   "outputs": [],
   "source": [
    "#add a prefix to column name\n",
    "adni2_m24_brainvol=adni2_m24_brainvol.add_prefix('m24_')  "
   ]
  },
  {
   "cell_type": "code",
   "execution_count": 22,
   "metadata": {
    "collapsed": true
   },
   "outputs": [],
   "source": [
    "#merge m24 brain vol data with meandf\n",
    "merged_meandf_m24 = pd.merge(left=meandf, right=adni2_m24_brainvol, left_on='RID', right_on='m24_RID', how='left')"
   ]
  },
  {
   "cell_type": "code",
   "execution_count": 23,
   "metadata": {
    "collapsed": false,
    "scrolled": true
   },
   "outputs": [
    {
     "data": {
      "text/plain": [
       "1    330\n",
       "0    278\n",
       "2    139\n",
       "Name: Base_DX, dtype: int64"
      ]
     },
     "execution_count": 23,
     "metadata": {},
     "output_type": "execute_result"
    }
   ],
   "source": [
    "#checking number of cases with CN, MCI and AD\n",
    "merged_meandf_m24['Base_DX'].value_counts()"
   ]
  },
  {
   "cell_type": "markdown",
   "metadata": {},
   "source": [
    "## Preprocessing "
   ]
  },
  {
   "cell_type": "markdown",
   "metadata": {},
   "source": [
    "One-hot encode categorical variables for use as model predictors:"
   ]
  },
  {
   "cell_type": "code",
   "execution_count": 24,
   "metadata": {
    "collapsed": false,
    "scrolled": true
   },
   "outputs": [
    {
     "data": {
      "text/plain": [
       "Index(['RID', 'PTID', 'VISCODE_x', 'SITE', 'COLPROT', 'ORIGPROT', 'EXAMDATE',\n",
       "       'DX_bl', 'AGE', 'PTGENDER', 'PTEDUCAT', 'PTETHCAT', 'PTRACCAT',\n",
       "       'PTMARRY', 'APOE4', 'FDG', 'AV45', 'CDRSB', 'ADAS11', 'ADAS13', 'MMSE',\n",
       "       'RAVLT_immediate', 'RAVLT_learning', 'RAVLT_forgetting',\n",
       "       'RAVLT_perc_forgetting', 'FAQ', 'MOCA', 'EcogPtMem', 'EcogPtLang',\n",
       "       'EcogPtVisspat', 'EcogPtPlan', 'EcogPtOrgan', 'EcogPtDivatt',\n",
       "       'EcogPtTotal', 'EcogSPMem', 'EcogSPLang', 'EcogSPVisspat', 'EcogSPPlan',\n",
       "       'EcogSPOrgan', 'EcogSPDivatt', 'EcogSPTotal', 'Ventricles',\n",
       "       'Hippocampus', 'WholeBrain', 'Entorhinal', 'Fusiform', 'MidTemp', 'ICV',\n",
       "       'DX', 'Month', 'update_stamp_x', 'VISCODE_y', 'BATCH', 'KIT', 'STDS',\n",
       "       'DRWDTE', 'RUNDATE', 'ABETA', 'TAU', 'PTAU', 'update_stamp_y',\n",
       "       'Base_DX', 'm24_RID', 'm24_WholeBrain'],\n",
       "      dtype='object')"
      ]
     },
     "execution_count": 24,
     "metadata": {},
     "output_type": "execute_result"
    }
   ],
   "source": [
    "merged_meandf_m24.columns"
   ]
  },
  {
   "cell_type": "code",
   "execution_count": 25,
   "metadata": {
    "collapsed": false,
    "scrolled": true
   },
   "outputs": [
    {
     "data": {
      "text/plain": [
       "Index(['RID', 'PTID', 'VISCODE_x', 'SITE', 'COLPROT', 'ORIGPROT', 'EXAMDATE',\n",
       "       'DX_bl', 'AGE', 'PTEDUCAT', 'FDG', 'AV45', 'CDRSB', 'ADAS11', 'ADAS13',\n",
       "       'MMSE', 'RAVLT_immediate', 'RAVLT_learning', 'RAVLT_forgetting',\n",
       "       'RAVLT_perc_forgetting', 'FAQ', 'MOCA', 'EcogPtMem', 'EcogPtLang',\n",
       "       'EcogPtVisspat', 'EcogPtPlan', 'EcogPtOrgan', 'EcogPtDivatt',\n",
       "       'EcogPtTotal', 'EcogSPMem', 'EcogSPLang', 'EcogSPVisspat', 'EcogSPPlan',\n",
       "       'EcogSPOrgan', 'EcogSPDivatt', 'EcogSPTotal', 'Ventricles',\n",
       "       'Hippocampus', 'WholeBrain', 'Entorhinal', 'Fusiform', 'MidTemp', 'ICV',\n",
       "       'DX', 'Month', 'update_stamp_x', 'VISCODE_y', 'BATCH', 'KIT', 'STDS',\n",
       "       'DRWDTE', 'RUNDATE', 'ABETA', 'TAU', 'PTAU', 'update_stamp_y',\n",
       "       'Base_DX', 'm24_RID', 'm24_WholeBrain', 'PTGENDER_Male',\n",
       "       'PTETHCAT_Not Hisp/Latino', 'PTETHCAT_Unknown', 'PTRACCAT_Asian',\n",
       "       'PTRACCAT_Black', 'PTRACCAT_Hawaiian/Other PI',\n",
       "       'PTRACCAT_More than one', 'PTRACCAT_Unknown', 'PTRACCAT_White',\n",
       "       'PTMARRY_Married', 'PTMARRY_Never married', 'PTMARRY_Unknown',\n",
       "       'PTMARRY_Widowed', 'APOE4_1.0', 'APOE4_2.0'],\n",
       "      dtype='object')"
      ]
     },
     "execution_count": 25,
     "metadata": {},
     "output_type": "execute_result"
    }
   ],
   "source": [
    "categorical_variables = ['PTGENDER', 'PTETHCAT', 'PTRACCAT', 'PTMARRY', 'APOE4']\n",
    "modeldf = pd.get_dummies(merged_meandf_m24, columns=categorical_variables, drop_first=True)\n",
    "modeldf.columns #confirm appropriate one-hot encoding"
   ]
  },
  {
   "cell_type": "markdown",
   "metadata": {},
   "source": [
    "Drop variables that are not useful for prediction:"
   ]
  },
  {
   "cell_type": "code",
   "execution_count": 26,
   "metadata": {
    "collapsed": false
   },
   "outputs": [
    {
     "data": {
      "text/html": [
       "<div>\n",
       "<table border=\"1\" class=\"dataframe\">\n",
       "  <thead>\n",
       "    <tr style=\"text-align: right;\">\n",
       "      <th></th>\n",
       "      <th>AGE</th>\n",
       "      <th>FDG</th>\n",
       "      <th>AV45</th>\n",
       "      <th>ADAS11</th>\n",
       "      <th>ADAS13</th>\n",
       "      <th>MMSE</th>\n",
       "      <th>RAVLT_immediate</th>\n",
       "      <th>RAVLT_learning</th>\n",
       "      <th>RAVLT_forgetting</th>\n",
       "      <th>RAVLT_perc_forgetting</th>\n",
       "      <th>FAQ</th>\n",
       "      <th>MOCA</th>\n",
       "      <th>EcogPtMem</th>\n",
       "      <th>EcogPtLang</th>\n",
       "      <th>EcogPtVisspat</th>\n",
       "      <th>EcogPtPlan</th>\n",
       "      <th>EcogPtOrgan</th>\n",
       "      <th>EcogPtDivatt</th>\n",
       "      <th>EcogPtTotal</th>\n",
       "      <th>EcogSPMem</th>\n",
       "      <th>EcogSPLang</th>\n",
       "      <th>EcogSPVisspat</th>\n",
       "      <th>EcogSPPlan</th>\n",
       "      <th>EcogSPOrgan</th>\n",
       "      <th>EcogSPDivatt</th>\n",
       "      <th>EcogSPTotal</th>\n",
       "      <th>Ventricles</th>\n",
       "      <th>Hippocampus</th>\n",
       "      <th>WholeBrain</th>\n",
       "      <th>Entorhinal</th>\n",
       "      <th>Fusiform</th>\n",
       "      <th>MidTemp</th>\n",
       "      <th>ICV</th>\n",
       "      <th>ABETA</th>\n",
       "      <th>TAU</th>\n",
       "      <th>PTAU</th>\n",
       "      <th>Base_DX</th>\n",
       "      <th>PTGENDER_Male</th>\n",
       "      <th>PTETHCAT_Not Hisp/Latino</th>\n",
       "      <th>PTETHCAT_Unknown</th>\n",
       "      <th>PTRACCAT_Asian</th>\n",
       "      <th>PTRACCAT_Black</th>\n",
       "      <th>PTRACCAT_Hawaiian/Other PI</th>\n",
       "      <th>PTRACCAT_More than one</th>\n",
       "      <th>PTRACCAT_Unknown</th>\n",
       "      <th>PTRACCAT_White</th>\n",
       "      <th>PTMARRY_Married</th>\n",
       "      <th>PTMARRY_Never married</th>\n",
       "      <th>PTMARRY_Unknown</th>\n",
       "      <th>PTMARRY_Widowed</th>\n",
       "      <th>APOE4_1.0</th>\n",
       "      <th>APOE4_2.0</th>\n",
       "    </tr>\n",
       "  </thead>\n",
       "  <tbody>\n",
       "    <tr>\n",
       "      <th>0</th>\n",
       "      <td>67.5</td>\n",
       "      <td>1.25195</td>\n",
       "      <td>0.983143</td>\n",
       "      <td>3.0</td>\n",
       "      <td>5.0</td>\n",
       "      <td>30.0</td>\n",
       "      <td>42.0</td>\n",
       "      <td>7.0</td>\n",
       "      <td>2.0</td>\n",
       "      <td>20.0000</td>\n",
       "      <td>0.0</td>\n",
       "      <td>28.0</td>\n",
       "      <td>1.875</td>\n",
       "      <td>1.00000</td>\n",
       "      <td>1.00000</td>\n",
       "      <td>1.0</td>\n",
       "      <td>2.00000</td>\n",
       "      <td>2.00</td>\n",
       "      <td>1.43590</td>\n",
       "      <td>1.625</td>\n",
       "      <td>1.11111</td>\n",
       "      <td>1.28571</td>\n",
       "      <td>1.0</td>\n",
       "      <td>1.25000</td>\n",
       "      <td>1.00000</td>\n",
       "      <td>1.25000</td>\n",
       "      <td>33185.0</td>\n",
       "      <td>8297.0</td>\n",
       "      <td>1165500.0</td>\n",
       "      <td>4946.00000</td>\n",
       "      <td>20147.000000</td>\n",
       "      <td>21194.000000</td>\n",
       "      <td>1656460.0</td>\n",
       "      <td>175.0</td>\n",
       "      <td>23.0</td>\n",
       "      <td>21.0</td>\n",
       "      <td>0</td>\n",
       "      <td>1</td>\n",
       "      <td>1</td>\n",
       "      <td>0</td>\n",
       "      <td>0</td>\n",
       "      <td>1</td>\n",
       "      <td>0</td>\n",
       "      <td>0</td>\n",
       "      <td>0</td>\n",
       "      <td>0</td>\n",
       "      <td>0</td>\n",
       "      <td>1</td>\n",
       "      <td>0</td>\n",
       "      <td>0</td>\n",
       "      <td>0</td>\n",
       "      <td>0</td>\n",
       "    </tr>\n",
       "    <tr>\n",
       "      <th>1</th>\n",
       "      <td>68.5</td>\n",
       "      <td>1.50629</td>\n",
       "      <td>0.985156</td>\n",
       "      <td>4.0</td>\n",
       "      <td>7.0</td>\n",
       "      <td>30.0</td>\n",
       "      <td>61.0</td>\n",
       "      <td>6.0</td>\n",
       "      <td>3.0</td>\n",
       "      <td>20.0000</td>\n",
       "      <td>0.0</td>\n",
       "      <td>27.0</td>\n",
       "      <td>1.250</td>\n",
       "      <td>1.44444</td>\n",
       "      <td>1.00000</td>\n",
       "      <td>1.0</td>\n",
       "      <td>1.16667</td>\n",
       "      <td>1.75</td>\n",
       "      <td>1.25641</td>\n",
       "      <td>1.875</td>\n",
       "      <td>1.22222</td>\n",
       "      <td>1.28571</td>\n",
       "      <td>1.0</td>\n",
       "      <td>1.33333</td>\n",
       "      <td>1.33333</td>\n",
       "      <td>1.37838</td>\n",
       "      <td>21327.0</td>\n",
       "      <td>7654.0</td>\n",
       "      <td>1081140.0</td>\n",
       "      <td>4065.00000</td>\n",
       "      <td>17964.000000</td>\n",
       "      <td>18611.000000</td>\n",
       "      <td>1508210.0</td>\n",
       "      <td>214.0</td>\n",
       "      <td>38.0</td>\n",
       "      <td>19.7</td>\n",
       "      <td>0</td>\n",
       "      <td>1</td>\n",
       "      <td>1</td>\n",
       "      <td>0</td>\n",
       "      <td>0</td>\n",
       "      <td>0</td>\n",
       "      <td>0</td>\n",
       "      <td>0</td>\n",
       "      <td>0</td>\n",
       "      <td>1</td>\n",
       "      <td>1</td>\n",
       "      <td>0</td>\n",
       "      <td>0</td>\n",
       "      <td>0</td>\n",
       "      <td>0</td>\n",
       "      <td>0</td>\n",
       "    </tr>\n",
       "    <tr>\n",
       "      <th>2</th>\n",
       "      <td>80.2</td>\n",
       "      <td>1.22045</td>\n",
       "      <td>1.226230</td>\n",
       "      <td>3.0</td>\n",
       "      <td>10.0</td>\n",
       "      <td>29.0</td>\n",
       "      <td>36.0</td>\n",
       "      <td>8.0</td>\n",
       "      <td>7.0</td>\n",
       "      <td>63.6364</td>\n",
       "      <td>0.0</td>\n",
       "      <td>28.0</td>\n",
       "      <td>1.875</td>\n",
       "      <td>1.22222</td>\n",
       "      <td>1.14286</td>\n",
       "      <td>1.0</td>\n",
       "      <td>1.33333</td>\n",
       "      <td>1.00</td>\n",
       "      <td>1.30769</td>\n",
       "      <td>1.250</td>\n",
       "      <td>1.00000</td>\n",
       "      <td>1.00000</td>\n",
       "      <td>1.0</td>\n",
       "      <td>1.00000</td>\n",
       "      <td>1.00000</td>\n",
       "      <td>1.05128</td>\n",
       "      <td>30975.0</td>\n",
       "      <td>7480.0</td>\n",
       "      <td>1022610.0</td>\n",
       "      <td>4313.00000</td>\n",
       "      <td>19821.000000</td>\n",
       "      <td>17272.000000</td>\n",
       "      <td>1461910.0</td>\n",
       "      <td>172.0</td>\n",
       "      <td>86.0</td>\n",
       "      <td>57.6</td>\n",
       "      <td>0</td>\n",
       "      <td>1</td>\n",
       "      <td>1</td>\n",
       "      <td>0</td>\n",
       "      <td>0</td>\n",
       "      <td>0</td>\n",
       "      <td>0</td>\n",
       "      <td>0</td>\n",
       "      <td>0</td>\n",
       "      <td>1</td>\n",
       "      <td>0</td>\n",
       "      <td>1</td>\n",
       "      <td>0</td>\n",
       "      <td>0</td>\n",
       "      <td>1</td>\n",
       "      <td>0</td>\n",
       "    </tr>\n",
       "    <tr>\n",
       "      <th>3</th>\n",
       "      <td>71.8</td>\n",
       "      <td>1.42276</td>\n",
       "      <td>1.734130</td>\n",
       "      <td>4.0</td>\n",
       "      <td>6.0</td>\n",
       "      <td>28.0</td>\n",
       "      <td>44.0</td>\n",
       "      <td>8.0</td>\n",
       "      <td>4.0</td>\n",
       "      <td>40.0000</td>\n",
       "      <td>1.0</td>\n",
       "      <td>25.0</td>\n",
       "      <td>2.750</td>\n",
       "      <td>2.22222</td>\n",
       "      <td>1.14286</td>\n",
       "      <td>1.4</td>\n",
       "      <td>1.40000</td>\n",
       "      <td>1.50</td>\n",
       "      <td>1.84211</td>\n",
       "      <td>1.875</td>\n",
       "      <td>1.00000</td>\n",
       "      <td>1.00000</td>\n",
       "      <td>1.0</td>\n",
       "      <td>1.00000</td>\n",
       "      <td>1.75000</td>\n",
       "      <td>1.25641</td>\n",
       "      <td>25360.0</td>\n",
       "      <td>7278.0</td>\n",
       "      <td>1006710.0</td>\n",
       "      <td>4043.00000</td>\n",
       "      <td>15999.000000</td>\n",
       "      <td>17258.000000</td>\n",
       "      <td>1320000.0</td>\n",
       "      <td>135.0</td>\n",
       "      <td>81.4</td>\n",
       "      <td>80.2</td>\n",
       "      <td>0</td>\n",
       "      <td>0</td>\n",
       "      <td>1</td>\n",
       "      <td>0</td>\n",
       "      <td>0</td>\n",
       "      <td>0</td>\n",
       "      <td>0</td>\n",
       "      <td>0</td>\n",
       "      <td>0</td>\n",
       "      <td>1</td>\n",
       "      <td>0</td>\n",
       "      <td>0</td>\n",
       "      <td>0</td>\n",
       "      <td>1</td>\n",
       "      <td>1</td>\n",
       "      <td>0</td>\n",
       "    </tr>\n",
       "    <tr>\n",
       "      <th>4</th>\n",
       "      <td>78.0</td>\n",
       "      <td>1.03993</td>\n",
       "      <td>1.571460</td>\n",
       "      <td>16.0</td>\n",
       "      <td>26.0</td>\n",
       "      <td>24.0</td>\n",
       "      <td>26.0</td>\n",
       "      <td>1.0</td>\n",
       "      <td>5.0</td>\n",
       "      <td>100.0000</td>\n",
       "      <td>11.0</td>\n",
       "      <td>20.0</td>\n",
       "      <td>2.000</td>\n",
       "      <td>1.55556</td>\n",
       "      <td>1.00000</td>\n",
       "      <td>1.2</td>\n",
       "      <td>1.00000</td>\n",
       "      <td>1.00</td>\n",
       "      <td>1.35897</td>\n",
       "      <td>3.000</td>\n",
       "      <td>3.00000</td>\n",
       "      <td>2.20000</td>\n",
       "      <td>2.8</td>\n",
       "      <td>2.80000</td>\n",
       "      <td>3.00000</td>\n",
       "      <td>2.83333</td>\n",
       "      <td>71716.0</td>\n",
       "      <td>6843.0</td>\n",
       "      <td>1146280.0</td>\n",
       "      <td>3584.91411</td>\n",
       "      <td>18121.245399</td>\n",
       "      <td>19995.556748</td>\n",
       "      <td>1748210.0</td>\n",
       "      <td>131.0</td>\n",
       "      <td>154.0</td>\n",
       "      <td>213.0</td>\n",
       "      <td>2</td>\n",
       "      <td>0</td>\n",
       "      <td>1</td>\n",
       "      <td>0</td>\n",
       "      <td>0</td>\n",
       "      <td>0</td>\n",
       "      <td>0</td>\n",
       "      <td>0</td>\n",
       "      <td>0</td>\n",
       "      <td>1</td>\n",
       "      <td>1</td>\n",
       "      <td>0</td>\n",
       "      <td>0</td>\n",
       "      <td>0</td>\n",
       "      <td>1</td>\n",
       "      <td>0</td>\n",
       "    </tr>\n",
       "  </tbody>\n",
       "</table>\n",
       "</div>"
      ],
      "text/plain": [
       "    AGE      FDG      AV45  ADAS11  ADAS13  MMSE  RAVLT_immediate  \\\n",
       "0  67.5  1.25195  0.983143     3.0     5.0  30.0             42.0   \n",
       "1  68.5  1.50629  0.985156     4.0     7.0  30.0             61.0   \n",
       "2  80.2  1.22045  1.226230     3.0    10.0  29.0             36.0   \n",
       "3  71.8  1.42276  1.734130     4.0     6.0  28.0             44.0   \n",
       "4  78.0  1.03993  1.571460    16.0    26.0  24.0             26.0   \n",
       "\n",
       "   RAVLT_learning  RAVLT_forgetting  RAVLT_perc_forgetting   FAQ  MOCA  \\\n",
       "0             7.0               2.0                20.0000   0.0  28.0   \n",
       "1             6.0               3.0                20.0000   0.0  27.0   \n",
       "2             8.0               7.0                63.6364   0.0  28.0   \n",
       "3             8.0               4.0                40.0000   1.0  25.0   \n",
       "4             1.0               5.0               100.0000  11.0  20.0   \n",
       "\n",
       "   EcogPtMem  EcogPtLang  EcogPtVisspat  EcogPtPlan  EcogPtOrgan  \\\n",
       "0      1.875     1.00000        1.00000         1.0      2.00000   \n",
       "1      1.250     1.44444        1.00000         1.0      1.16667   \n",
       "2      1.875     1.22222        1.14286         1.0      1.33333   \n",
       "3      2.750     2.22222        1.14286         1.4      1.40000   \n",
       "4      2.000     1.55556        1.00000         1.2      1.00000   \n",
       "\n",
       "   EcogPtDivatt  EcogPtTotal  EcogSPMem  EcogSPLang  EcogSPVisspat  \\\n",
       "0          2.00      1.43590      1.625     1.11111        1.28571   \n",
       "1          1.75      1.25641      1.875     1.22222        1.28571   \n",
       "2          1.00      1.30769      1.250     1.00000        1.00000   \n",
       "3          1.50      1.84211      1.875     1.00000        1.00000   \n",
       "4          1.00      1.35897      3.000     3.00000        2.20000   \n",
       "\n",
       "   EcogSPPlan  EcogSPOrgan  EcogSPDivatt  EcogSPTotal  Ventricles  \\\n",
       "0         1.0      1.25000       1.00000      1.25000     33185.0   \n",
       "1         1.0      1.33333       1.33333      1.37838     21327.0   \n",
       "2         1.0      1.00000       1.00000      1.05128     30975.0   \n",
       "3         1.0      1.00000       1.75000      1.25641     25360.0   \n",
       "4         2.8      2.80000       3.00000      2.83333     71716.0   \n",
       "\n",
       "   Hippocampus  WholeBrain  Entorhinal      Fusiform       MidTemp        ICV  \\\n",
       "0       8297.0   1165500.0  4946.00000  20147.000000  21194.000000  1656460.0   \n",
       "1       7654.0   1081140.0  4065.00000  17964.000000  18611.000000  1508210.0   \n",
       "2       7480.0   1022610.0  4313.00000  19821.000000  17272.000000  1461910.0   \n",
       "3       7278.0   1006710.0  4043.00000  15999.000000  17258.000000  1320000.0   \n",
       "4       6843.0   1146280.0  3584.91411  18121.245399  19995.556748  1748210.0   \n",
       "\n",
       "   ABETA    TAU   PTAU  Base_DX  PTGENDER_Male  PTETHCAT_Not Hisp/Latino  \\\n",
       "0  175.0   23.0   21.0        0              1                         1   \n",
       "1  214.0   38.0   19.7        0              1                         1   \n",
       "2  172.0   86.0   57.6        0              1                         1   \n",
       "3  135.0   81.4   80.2        0              0                         1   \n",
       "4  131.0  154.0  213.0        2              0                         1   \n",
       "\n",
       "   PTETHCAT_Unknown  PTRACCAT_Asian  PTRACCAT_Black  \\\n",
       "0                 0               0               1   \n",
       "1                 0               0               0   \n",
       "2                 0               0               0   \n",
       "3                 0               0               0   \n",
       "4                 0               0               0   \n",
       "\n",
       "   PTRACCAT_Hawaiian/Other PI  PTRACCAT_More than one  PTRACCAT_Unknown  \\\n",
       "0                           0                       0                 0   \n",
       "1                           0                       0                 0   \n",
       "2                           0                       0                 0   \n",
       "3                           0                       0                 0   \n",
       "4                           0                       0                 0   \n",
       "\n",
       "   PTRACCAT_White  PTMARRY_Married  PTMARRY_Never married  PTMARRY_Unknown  \\\n",
       "0               0                0                      1                0   \n",
       "1               1                1                      0                0   \n",
       "2               1                0                      1                0   \n",
       "3               1                0                      0                0   \n",
       "4               1                1                      0                0   \n",
       "\n",
       "   PTMARRY_Widowed  APOE4_1.0  APOE4_2.0  \n",
       "0                0          0          0  \n",
       "1                0          0          0  \n",
       "2                0          1          0  \n",
       "3                1          1          0  \n",
       "4                0          1          0  "
      ]
     },
     "execution_count": 26,
     "metadata": {},
     "output_type": "execute_result"
    }
   ],
   "source": [
    "data_full = modeldf.drop(['RID', 'PTID', 'VISCODE_x', 'SITE', 'COLPROT', 'ORIGPROT', \n",
    "                           'EXAMDATE', 'DX_bl', 'PTEDUCAT', 'update_stamp_x', 'update_stamp_y', \n",
    "                          'm24_RID', 'm24_WholeBrain', 'VISCODE_y', 'BATCH', \n",
    "                            'KIT', 'STDS', 'DRWDTE', 'RUNDATE', 'DX', 'Month', 'CDRSB'], axis=1)\n",
    "\n",
    "data_full['Base_DX'] = data_full['Base_DX'].apply(pd.to_numeric)\n",
    "data_full.head()\n",
    "\n",
    "#X = data_full.iloc[:, :-1].values\n",
    "#y = data_full['Base_DX']\n",
    "\n",
    "#X = modeldf[usefulcols].values[:,:-1]\n",
    "#y = modeldf[usefulcols].values[:,-1]"
   ]
  },
  {
   "cell_type": "markdown",
   "metadata": {},
   "source": [
    "Split data into training set and test set (70-25 split):"
   ]
  },
  {
   "cell_type": "code",
   "execution_count": 27,
   "metadata": {
    "collapsed": false
   },
   "outputs": [
    {
     "data": {
      "text/plain": [
       "((560, 52), (187, 52))"
      ]
     },
     "execution_count": 27,
     "metadata": {},
     "output_type": "execute_result"
    }
   ],
   "source": [
    "data_train, data_test = train_test_split(data_full, test_size = 0.25, random_state=9001)\n",
    "data_train.shape, data_test.shape"
   ]
  },
  {
   "cell_type": "markdown",
   "metadata": {},
   "source": [
    "Standardize predictors:"
   ]
  },
  {
   "cell_type": "code",
   "execution_count": 28,
   "metadata": {
    "collapsed": true
   },
   "outputs": [],
   "source": [
    "cont_cols = ['AGE', 'FDG', 'AV45', 'ADAS13', 'MMSE',\n",
    "       'RAVLT_immediate', 'RAVLT_learning', 'RAVLT_forgetting',\n",
    "       'RAVLT_perc_forgetting', 'FAQ', 'MOCA', 'EcogPtMem', 'EcogPtLang',\n",
    "       'EcogPtVisspat', 'EcogPtPlan', 'EcogPtOrgan', 'EcogPtDivatt',\n",
    "       'EcogPtTotal', 'EcogSPMem', 'EcogSPLang', 'EcogSPVisspat', 'EcogSPPlan',\n",
    "       'EcogSPOrgan', 'EcogSPDivatt', 'EcogSPTotal', 'Ventricles',\n",
    "       'Hippocampus', 'WholeBrain', 'Entorhinal', 'Fusiform', 'MidTemp', 'ICV','ABETA',\n",
    "       'TAU', 'PTAU']\n",
    "\n",
    "stdz_train = data_train.copy()\n",
    "stdz_test = data_test.copy()\n",
    "\n",
    "def stdit(a,a_mean,a_std):                                        #Standardizing continous data to be used in classification model\n",
    "    a = float(a)\n",
    "    a=(a-a_mean)/(a_std)\n",
    "    return a  \n",
    "\n",
    "for col in cont_cols:\n",
    "    a_mean = data_train[col].mean()\n",
    "    a_std = data_train[col].std()\n",
    "    stdz_train[col] = stdz_train[col].apply(lambda s: stdit(s,a_mean,a_std))\n",
    "    stdz_test[col] = stdz_test[col].apply(lambda s: stdit(s,a_mean,a_std))        "
   ]
  },
  {
   "cell_type": "markdown",
   "metadata": {},
   "source": [
    "Further split training set into train and validation for model selection (80-20 split):"
   ]
  },
  {
   "cell_type": "code",
   "execution_count": 29,
   "metadata": {
    "collapsed": true
   },
   "outputs": [],
   "source": [
    "stdz_train_fs, stdz_val = train_test_split(stdz_train, test_size = 0.20, random_state=9001)"
   ]
  },
  {
   "cell_type": "markdown",
   "metadata": {},
   "source": [
    "Define X and y datasets for model fitting:"
   ]
  },
  {
   "cell_type": "code",
   "execution_count": 30,
   "metadata": {
    "collapsed": false
   },
   "outputs": [
    {
     "data": {
      "text/plain": [
       "((448, 51), (187, 51), (112, 51), (448,), (187,), (112,))"
      ]
     },
     "execution_count": 30,
     "metadata": {},
     "output_type": "execute_result"
    }
   ],
   "source": [
    "X_train = stdz_train_fs.drop('Base_DX', axis=1).values\n",
    "y_train = stdz_train_fs['Base_DX'].values\n",
    "X_val = stdz_val.drop('Base_DX', axis=1).values\n",
    "y_val = stdz_val['Base_DX'].values\n",
    "X_test = stdz_test.drop('Base_DX', axis=1).values\n",
    "y_test = stdz_test['Base_DX'].values\n",
    "\n",
    "X_train.shape, X_test.shape, X_val.shape, y_train.shape, y_test.shape, y_val.shape"
   ]
  },
  {
   "cell_type": "markdown",
   "metadata": {},
   "source": [
    "## Baseline Classification Models"
   ]
  },
  {
   "cell_type": "markdown",
   "metadata": {},
   "source": [
    "#### Model Selection\n",
    "\n",
    "- Six different models were trained on the training set for performance and the best model was selected through cross-validation. Hold-out cross-validation was used instead of k-fold considering small size of the dataset."
   ]
  },
  {
   "cell_type": "code",
   "execution_count": 31,
   "metadata": {
    "collapsed": true
   },
   "outputs": [],
   "source": [
    "score = lambda model, X_train, y_train, X_val, y_val : pd.Series([model.score(X_train, y_train), model.score(X_val, y_val)],index=['Model Training Accuracy', 'Model Validation Accuracy'])"
   ]
  },
  {
   "cell_type": "code",
   "execution_count": 32,
   "metadata": {
    "collapsed": false
   },
   "outputs": [
    {
     "name": "stderr",
     "output_type": "stream",
     "text": [
      "/Users/nikhil/anaconda/lib/python3.6/site-packages/sklearn/discriminant_analysis.py:387: UserWarning: Variables are collinear.\n",
      "  warnings.warn(\"Variables are collinear.\")\n",
      "/Users/nikhil/anaconda/lib/python3.6/site-packages/sklearn/discriminant_analysis.py:695: UserWarning: Variables are collinear\n",
      "  warnings.warn(\"Variables are collinear\")\n"
     ]
    }
   ],
   "source": [
    "\n",
    "# multinomial logistic regression\n",
    "clf_mult = LogisticRegressionCV(multi_class='multinomial')\n",
    "clf_mult.fit(X_train, y_train)\n",
    "clf_mult_score = score(clf_mult,X_train,y_train,X_val,y_val)\n",
    "\n",
    "# one-vs-rest (OvR) logistic regression\n",
    "clf_ovr = LogisticRegressionCV(multi_class='ovr')\n",
    "clf_ovr.fit(X_train, y_train)\n",
    "clf_ovr_score = score(clf_ovr,X_train,y_train,X_val,y_val)\n",
    "\n",
    "# Linear Discriminant Analysis\n",
    "lda = LDA()\n",
    "lda.fit(X_train, y_train)\n",
    "lda_score = score(lda,X_train,y_train,X_val,y_val)\n",
    "\n",
    "# Quadratic Discriminant Analysis\n",
    "qda = QDA()\n",
    "qda.fit(X_train, y_train)\n",
    "qda_score = score(qda,X_train,y_train,X_val,y_val)\n",
    "\n",
    "# k-Nearest Neighbors\n",
    "cv_scores = []\n",
    "neighbors = range(1,30)\n",
    "\n",
    "for k in neighbors:\n",
    "    knn = KNN(n_neighbors=k)\n",
    "    scores = cross_val_score(knn, X_train, y_train, cv=10, scoring='accuracy')\n",
    "    cv_scores.append(scores.mean())\n",
    "\n",
    "optimal_k = neighbors[cv_scores.index(max(cv_scores))]\n",
    "\n",
    "knn = KNN(n_neighbors = optimal_k)\n",
    "knn.fit(X_train, y_train)\n",
    "knn_score = score(knn,X_train,y_train,X_val,y_val)\n",
    "\n",
    "# Decision Tree\n",
    "cv_scores = []\n",
    "depths = range(1,50)\n",
    "\n",
    "for d in depths:\n",
    "    tree = DecisionTreeClassifier(max_depth=d, class_weight='balanced', criterion='entropy')\n",
    "    scores = cross_val_score(tree, X_train, y_train, cv=10, scoring='accuracy')\n",
    "    cv_scores.append(scores.mean())\n",
    "\n",
    "optimal_d = depths[cv_scores.index(max(cv_scores))]\n",
    "\n",
    "tree = DecisionTreeClassifier(max_depth=optimal_d, class_weight='balanced', criterion='entropy')\n",
    "tree.fit(X_train, y_train)\n",
    "tree_score = score(tree,X_train,y_train,X_val,y_val)"
   ]
  },
  {
   "cell_type": "code",
   "execution_count": 33,
   "metadata": {
    "collapsed": false,
    "scrolled": true
   },
   "outputs": [
    {
     "data": {
      "text/html": [
       "<div>\n",
       "<table border=\"1\" class=\"dataframe\">\n",
       "  <thead>\n",
       "    <tr style=\"text-align: right;\">\n",
       "      <th></th>\n",
       "      <th>clf_multinomial</th>\n",
       "      <th>clf_ovr</th>\n",
       "      <th>knn</th>\n",
       "      <th>lda</th>\n",
       "      <th>qda</th>\n",
       "      <th>tree</th>\n",
       "    </tr>\n",
       "  </thead>\n",
       "  <tbody>\n",
       "    <tr>\n",
       "      <th>Model Training Accuracy</th>\n",
       "      <td>0.854911</td>\n",
       "      <td>0.848214</td>\n",
       "      <td>0.738839</td>\n",
       "      <td>0.848214</td>\n",
       "      <td>0.861607</td>\n",
       "      <td>0.881696</td>\n",
       "    </tr>\n",
       "    <tr>\n",
       "      <th>Model Validation Accuracy</th>\n",
       "      <td>0.830357</td>\n",
       "      <td>0.785714</td>\n",
       "      <td>0.732143</td>\n",
       "      <td>0.776786</td>\n",
       "      <td>0.553571</td>\n",
       "      <td>0.741071</td>\n",
       "    </tr>\n",
       "  </tbody>\n",
       "</table>\n",
       "</div>"
      ],
      "text/plain": [
       "                           clf_multinomial   clf_ovr       knn       lda  \\\n",
       "Model Training Accuracy           0.854911  0.848214  0.738839  0.848214   \n",
       "Model Validation Accuracy         0.830357  0.785714  0.732143  0.776786   \n",
       "\n",
       "                                qda      tree  \n",
       "Model Training Accuracy    0.861607  0.881696  \n",
       "Model Validation Accuracy  0.553571  0.741071  "
      ]
     },
     "execution_count": 33,
     "metadata": {},
     "output_type": "execute_result"
    }
   ],
   "source": [
    "score_df = pd.DataFrame({'knn': knn_score, \n",
    "                         'clf_multinomial': clf_mult_score,\n",
    "                         'clf_ovr': clf_ovr_score,\n",
    "                         'lda': lda_score,\n",
    "                         'qda': qda_score, 'tree': tree_score})\n",
    "score_df"
   ]
  },
  {
   "cell_type": "markdown",
   "metadata": {},
   "source": [
    " - From the table above, it is evident that the multinomial logistic regression performs the best. "
   ]
  },
  {
   "cell_type": "code",
   "execution_count": 34,
   "metadata": {
    "collapsed": true
   },
   "outputs": [],
   "source": [
    "#calculating performance of best model on test set\n",
    "clf_mult_tscore = clf_mult.score(X_test, y_test)\n"
   ]
  },
  {
   "cell_type": "code",
   "execution_count": 35,
   "metadata": {
    "collapsed": false
   },
   "outputs": [
    {
     "name": "stdout",
     "output_type": "stream",
     "text": [
      "Classification accuracy of the multinomial logistic regression on the test set is:  0.754010695187\n"
     ]
    }
   ],
   "source": [
    "print(\"Classification accuracy of the multinomial logistic regression on the test set is: \",clf_mult_tscore)"
   ]
  },
  {
   "cell_type": "code",
   "execution_count": 36,
   "metadata": {
    "collapsed": false
   },
   "outputs": [
    {
     "data": {
      "text/plain": [
       "5"
      ]
     },
     "execution_count": 36,
     "metadata": {},
     "output_type": "execute_result"
    }
   ],
   "source": [
    "optimal_d"
   ]
  },
  {
   "cell_type": "code",
   "execution_count": 37,
   "metadata": {
    "collapsed": false,
    "scrolled": true
   },
   "outputs": [
    {
     "data": {
      "text/plain": [
       "Index(['AGE', 'FDG', 'AV45', 'ADAS11', 'ADAS13', 'MMSE', 'RAVLT_immediate',\n",
       "       'RAVLT_learning', 'RAVLT_forgetting', 'RAVLT_perc_forgetting', 'FAQ',\n",
       "       'MOCA', 'EcogPtMem', 'EcogPtLang', 'EcogPtVisspat', 'EcogPtPlan',\n",
       "       'EcogPtOrgan', 'EcogPtDivatt', 'EcogPtTotal', 'EcogSPMem', 'EcogSPLang',\n",
       "       'EcogSPVisspat', 'EcogSPPlan', 'EcogSPOrgan', 'EcogSPDivatt',\n",
       "       'EcogSPTotal', 'Ventricles', 'Hippocampus', 'WholeBrain', 'Entorhinal',\n",
       "       'Fusiform', 'MidTemp', 'ICV', 'ABETA', 'TAU', 'PTAU', 'Base_DX',\n",
       "       'PTGENDER_Male', 'PTETHCAT_Not Hisp/Latino', 'PTETHCAT_Unknown',\n",
       "       'PTRACCAT_Asian', 'PTRACCAT_Black', 'PTRACCAT_Hawaiian/Other PI',\n",
       "       'PTRACCAT_More than one', 'PTRACCAT_Unknown', 'PTRACCAT_White',\n",
       "       'PTMARRY_Married', 'PTMARRY_Never married', 'PTMARRY_Unknown',\n",
       "       'PTMARRY_Widowed', 'APOE4_1.0', 'APOE4_2.0'],\n",
       "      dtype='object')"
      ]
     },
     "execution_count": 37,
     "metadata": {},
     "output_type": "execute_result"
    }
   ],
   "source": [
    "stdz_train_fs.columns"
   ]
  },
  {
   "cell_type": "markdown",
   "metadata": {},
   "source": [
    "- For the next step, we bundle predictors from each of the screens together. We then calculate the screen's contribution to overall model's accuracy by running the model by removing predicors from each bundle one at a time."
   ]
  },
  {
   "cell_type": "code",
   "execution_count": 38,
   "metadata": {
    "collapsed": true
   },
   "outputs": [],
   "source": [
    "# contribution of each bundle to accuracy\n",
    "\n",
    "dem = ['AGE', 'PTGENDER_Female','PTETHCAT_Hisp/Latino', 'PTETHCAT_Not Hisp/Latino', 'PTRACCAT_Am Indian/Alaskan',\n",
    " 'PTRACCAT_Asian', 'PTRACCAT_Black', 'PTRACCAT_Hawaiian/Other PI', 'PTRACCAT_More than one',\n",
    " 'PTRACCAT_White', 'PTMARRY_Divorced', 'PTMARRY_Married', 'PTMARRY_Never married', 'PTMARRY_Widowed']\n",
    "gen = ['APOE4_1.0', 'APOE4_2.0']\n",
    "adas = ['ADAS13']\n",
    "mmse = ['MMSE']\n",
    "ravlt = ['RAVLT_immediate', 'RAVLT_learning', 'RAVLT_forgetting',\n",
    "       'RAVLT_perc_forgetting']\n",
    "faq = ['FAQ']\n",
    "moca =['MOCA']\n",
    "ecogpt = ['EcogPtMem', 'EcogPtLang',\n",
    "       'EcogPtVisspat', 'EcogPtPlan', 'EcogPtOrgan', 'EcogPtDivatt',\n",
    "       'EcogPtTotal']\n",
    "ecogsp = ['EcogSPMem', 'EcogSPLang', 'EcogSPVisspat', 'EcogSPPlan',\n",
    "       'EcogSPOrgan', 'EcogSPDivatt', 'EcogSPTotal']\n",
    "mri = ['Ventricles',\n",
    "       'Hippocampus', 'WholeBrain', 'Entorhinal', 'Fusiform', 'MidTemp', 'ICV']\n",
    "pet = ['FDG', 'AV45']\n",
    "csf = ['ABETA',\n",
    "       'TAU', 'PTAU']\n"
   ]
  },
  {
   "cell_type": "code",
   "execution_count": 39,
   "metadata": {
    "collapsed": true
   },
   "outputs": [],
   "source": [
    "pred_types = {'Demographic':dem, 'Genetic':gen, 'ADAS':adas, 'MMSE':mmse, 'RAVLT':ravlt,'FAQ': faq, 'MOCA':moca, 'ECogPt':ecogpt, 'ECogSP':ecogsp, 'MRI':mri, \n",
    "                   'PET':pet,'CSF':csf}"
   ]
  },
  {
   "cell_type": "code",
   "execution_count": 40,
   "metadata": {
    "collapsed": false
   },
   "outputs": [
    {
     "data": {
      "text/plain": [
       "{'ADAS': (0.8526785714285714, 0.76470588235294112),\n",
       " 'CSF': (0.8504464285714286, 0.75401069518716579),\n",
       " 'Demographic': (0.828125, 0.78074866310160429),\n",
       " 'ECogPt': (0.8549107142857143, 0.74866310160427807),\n",
       " 'ECogSP': (0.8325892857142857, 0.75401069518716579),\n",
       " 'FAQ': (0.8504464285714286, 0.77540106951871657),\n",
       " 'Genetic': (0.8504464285714286, 0.76470588235294112),\n",
       " 'MMSE': (0.8303571428571429, 0.74331550802139035),\n",
       " 'MOCA': (0.8549107142857143, 0.77540106951871657),\n",
       " 'MRI': (0.8571428571428571, 0.77540106951871657),\n",
       " 'PET': (0.8504464285714286, 0.76470588235294112),\n",
       " 'RAVLT': (0.84375, 0.76470588235294112)}"
      ]
     },
     "execution_count": 40,
     "metadata": {},
     "output_type": "execute_result"
    }
   ],
   "source": [
    "all_preds = list(stdz_train_fs.drop('Base_DX', axis=1).columns)\n",
    "accwithout = {}\n",
    "\n",
    "#To calculate importance of each predictor to accuracy\n",
    "curr_preds = list(stdz_train_fs.drop('Base_DX', axis=1).columns)\n",
    "\n",
    "#Get values for train and validation (instead of test)\n",
    "for key in pred_types.keys():\n",
    "    this_time = [a for a in curr_preds if a not in pred_types[key]]\n",
    "    \n",
    "    X_subtrain= stdz_train_fs[this_time].values\n",
    "    X_subtest = stdz_test[this_time].values\n",
    "    \n",
    "    clf_mult.fit(X_subtrain, y_train)\n",
    "    accwithout[key] = (clf_mult.score(X_subtrain,y_train),clf_mult.score(X_subtest,y_test))\n",
    "    \n",
    "    \n",
    "accwithout"
   ]
  },
  {
   "cell_type": "markdown",
   "metadata": {},
   "source": [
    "## Backward Selection"
   ]
  },
  {
   "cell_type": "markdown",
   "metadata": {},
   "source": [
    "- Next, we perform backward selection to arrive at the feature set with the least number of predictors"
   ]
  },
  {
   "cell_type": "code",
   "execution_count": 41,
   "metadata": {
    "collapsed": true
   },
   "outputs": [],
   "source": [
    "#get subset of best bundle of predictors\n",
    "#backword selection using validation accuracy \n",
    "\n",
    "def sw_back_selection(model,train_df,val_df, pred_types):\n",
    "    curr_types = pred_types.copy()\n",
    "    all_preds = list(train_df.columns)[:-1]\n",
    "    X_subtrain= train_df.iloc[:, :-1].values\n",
    "    y_subtrain = train_df.iloc[:,-1].values\n",
    "    X_subval = val_df.iloc[:,:-1].values\n",
    "    y_subval = val_df.iloc[:,-1].values\n",
    "    clf_mult.fit(X_subtrain, y_subtrain)\n",
    "    predictors = [(all_preds, \"none\",clf_mult.score(X_subval,y_subval))]\n",
    "    for k in range(len(pred_types),1,-1):\n",
    "        best_k_predictors = predictors[-1][0]\n",
    "        val_acc = {}\n",
    "        for key in curr_types.keys():\n",
    "            this_time = [a for a in best_k_predictors if a not in curr_types[key]]\n",
    "            X_subtrain= train_df[this_time].values\n",
    "            X_subval = val_df[this_time].values\n",
    "            clf_mult.fit(X_subtrain, y_subtrain)\n",
    "            val_acc[key] = clf_mult.score(X_subval,y_subval)\n",
    "        best_k_minus_1 = list(set(best_k_predictors) - set(curr_types[list(val_acc.keys())[np.argmax(list(val_acc.values()))]]))\n",
    "        del curr_types[list(val_acc.keys())[np.argmax(list(val_acc.values()))]]\n",
    "        predictors.append((best_k_minus_1, list(val_acc.keys())[np.argmax(list(val_acc.values()))],np.max(list(val_acc.values()))))\n",
    "    return predictors\n"
   ]
  },
  {
   "cell_type": "code",
   "execution_count": 42,
   "metadata": {
    "collapsed": true
   },
   "outputs": [],
   "source": [
    "selection_res = sw_back_selection(clf_mult,stdz_train_fs,stdz_val,pred_types)\n",
    "#print(\"Best subset of predictors is {} with a validation accuracy of {}\".format(best_back_selection[0],best_back_selection[1]))"
   ]
  },
  {
   "cell_type": "code",
   "execution_count": 43,
   "metadata": {
    "collapsed": true
   },
   "outputs": [],
   "source": [
    "best_back_selection = sorted(selection_res, key=lambda t: t[2],reverse=True)[0]"
   ]
  },
  {
   "cell_type": "markdown",
   "metadata": {},
   "source": [
    "The backwards selection process results in dropping the following predictors:"
   ]
  },
  {
   "cell_type": "code",
   "execution_count": 44,
   "metadata": {
    "collapsed": false,
    "scrolled": true
   },
   "outputs": [
    {
     "name": "stdout",
     "output_type": "stream",
     "text": [
      "Predictors dropped: ['Demographic', 'Genetic', 'ADAS', 'MMSE', 'RAVLT', 'FAQ', 'MOCA']\n"
     ]
    }
   ],
   "source": [
    "dropped = []\n",
    "for i in range(1,8):\n",
    "    dropped.append(selection_res[i][1])\n",
    "print('Predictors dropped:', dropped)"
   ]
  },
  {
   "cell_type": "code",
   "execution_count": 45,
   "metadata": {
    "collapsed": false
   },
   "outputs": [
    {
     "name": "stdout",
     "output_type": "stream",
     "text": [
      "Remaining predictors after backward selection: ['PTMARRY_Unknown', 'EcogPtMem', 'EcogPtVisspat', 'ICV', 'PTAU', 'AV45', 'EcogSPTotal', 'EcogPtTotal', 'EcogSPVisspat', 'EcogSPPlan', 'EcogSPOrgan', 'Ventricles', 'EcogPtOrgan', 'WholeBrain', 'Fusiform', 'MidTemp', 'Entorhinal', 'PTETHCAT_Unknown', 'EcogSPLang', 'PTGENDER_Male', 'EcogPtLang', 'TAU', 'ADAS11', 'EcogSPMem', 'FDG', 'Hippocampus', 'EcogSPDivatt', 'PTRACCAT_Unknown', 'EcogPtDivatt', 'EcogPtPlan', 'Base_DX', 'ABETA']\n"
     ]
    }
   ],
   "source": [
    "print('Remaining predictors after backward selection:', selection_res[7][0])"
   ]
  },
  {
   "cell_type": "markdown",
   "metadata": {},
   "source": [
    "## Predictor Importance Versus Estimated Cost"
   ]
  },
  {
   "cell_type": "markdown",
   "metadata": {},
   "source": [
    "We estimate monetary costs and savings of predictor bundles in order to select the most cost-effective predictors of Alzheimer's. The estimated monetary costs of predictors are based on direct costs of clinical tests, estimated as detailed in the accompanying website report. Savings estimated are those due to early detection of Alzheimer's which allows early intervention and associated savings to the healthcare system. These are estimated as described in the website report."
   ]
  },
  {
   "cell_type": "code",
   "execution_count": 46,
   "metadata": {
    "collapsed": true,
    "scrolled": true
   },
   "outputs": [],
   "source": [
    "acc_inc = list(np.array(list(accwithout.values()))[:,1]-0.75)\n",
    "test_C = [192, 463, 0, 192, 192, 192, 149, 192, 192, 1102, 7700, 192]\n",
    "det_T = [3, 2, 2, 3, 3, 3, 1, 3, 3, 3, 3, 3] #1 is highest savings (early detection); 3 is late detection\n",
    "tot_C = [12050, 6392, 5929, 12050, 12050, 12050, 149, 12050, 12050, 12960, 19558, 12050]\n",
    "bundles = ['ADAS','CSF','Demographic','ECogPt','ECogSP','FAQ','Genetic','MMSE','MOCA','MRI','PET','RAVLT']"
   ]
  },
  {
   "cell_type": "markdown",
   "metadata": {},
   "source": [
    "Predictors were bundled according to shared cost (e.g. every MRI metric comes from the same cost of a single brain MRI). The contribution of each predictor bundle to model accuracy was calculated above by comparing the accuracy of the complete model to a model missing each bundle of predictors, separately for each bundle. Removing these predictor sets always resulted in lower model accuracies. The absolute value of the decrease in model accuracy when removing a predictor bundle is considered that bundle's contribution to model accuracy."
   ]
  },
  {
   "cell_type": "code",
   "execution_count": 47,
   "metadata": {
    "collapsed": false
   },
   "outputs": [
    {
     "data": {
      "image/png": "[encoded data removed]",
      "text/plain": [
       "<matplotlib.figure.Figure at 0x11a196940>"
      ]
     },
     "metadata": {},
     "output_type": "display_data"
    }
   ],
   "source": [
    "plt.scatter(acc_inc, test_C)\n",
    "plt.title('Cost vs. Contribution to Model Accuracy')\n",
    "plt.xlabel('Bundle Contribution to Model Accuracy')\n",
    "plt.ylabel('Test Bundle Cost ($)')\n",
    "for (i,x,y) in zip(bundles,acc_inc,test_C):\n",
    "    plt.annotate(i,xy=(x,y), alpha=.8)\n",
    "plt.show()"
   ]
  },
  {
   "cell_type": "markdown",
   "metadata": {},
   "source": [
    "The ability of a test bundle to detect Alzheimer's earlier versus later is an added bonus to that bundle's utility. Detection timing and associated savings were estimated as detailed in the report. Below we plot the timing of detection (1=earliest possible detection, 2=medium timing, 3=latest possible detection) against bundle importance to the model."
   ]
  },
  {
   "cell_type": "code",
   "execution_count": 48,
   "metadata": {
    "collapsed": false
   },
   "outputs": [
    {
     "data": {
      "image/png": "[encoded data removed]",
      "text/plain": [
       "<matplotlib.figure.Figure at 0x11a196160>"
      ]
     },
     "metadata": {},
     "output_type": "display_data"
    }
   ],
   "source": [
    "### CONSIDER WAYS TO REFORMAT THIS GRAPH AS 'EARLY' 'MEDIUM' 'LATE' INSTEAD OF CONTINUOUS Y AXIS\n",
    "\n",
    "\n",
    "plt.scatter(acc_inc,det_T)\n",
    "plt.title('Stage of Detection vs. Contribution to Model Accuracy')\n",
    "plt.xlabel('Bundle Contribution to Model Accuracy')\n",
    "plt.ylabel('Stage of Detection (early to late)')\n",
    "for (i,x,y) in zip(bundles,acc_inc,det_T):\n",
    "    plt.annotate(i,xy=(x,y), alpha=.8)\n",
    "plt.show()"
   ]
  },
  {
   "cell_type": "markdown",
   "metadata": {},
   "source": [
    "Below we combine cost and savings from early detection by considering the lack of savings in late detection as if it were an additional cost. The combined metric is therefore the sum of the absolute values of costs and savings for each predictor bundle."
   ]
  },
  {
   "cell_type": "code",
   "execution_count": 49,
   "metadata": {
    "collapsed": false
   },
   "outputs": [
    {
     "data": {
      "image/png": "[encoded data removed]",
      "text/plain": [
       "<matplotlib.figure.Figure at 0x11a248da0>"
      ]
     },
     "metadata": {},
     "output_type": "display_data"
    }
   ],
   "source": [
    "plt.scatter(acc_inc,tot_C)\n",
    "plt.title('Cost Summary vs. Contribution to Model Accuracy')\n",
    "plt.xlabel('Bundle Contribution to Model Accuracy')\n",
    "plt.ylabel('Cost Summary ($)')\n",
    "for (i,x,y) in zip(bundles,acc_inc,tot_C):\n",
    "    plt.annotate(i,xy=(x,y), alpha=.8)\n",
    "plt.show()"
   ]
  },
  {
   "cell_type": "markdown",
   "metadata": {},
   "source": [
    "The genetic bundle (comprised only of APOE4 in this analysis) provides the greatest contribution to model accuracy for the least overall cost."
   ]
  }
 ],
 "metadata": {
  "kernelspec": {
   "display_name": "Python 3",
   "language": "python",
   "name": "python3"
  },
  "language_info": {
   "codemirror_mode": {
    "name": "ipython",
    "version": 3
   },
   "file_extension": ".py",
   "mimetype": "text/x-python",
   "name": "python",
   "nbconvert_exporter": "python",
   "pygments_lexer": "ipython3",
   "version": "3.6.0"
  }
 },
 "nbformat": 4,
 "nbformat_minor": 2
}
